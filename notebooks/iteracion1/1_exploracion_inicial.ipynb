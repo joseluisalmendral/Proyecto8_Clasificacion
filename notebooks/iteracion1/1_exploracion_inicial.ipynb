{
 "cells": [
  {
   "cell_type": "markdown",
   "metadata": {},
   "source": [
    "# Exploracion Inicial de los datos.\n",
    "\n",
    "## En este notebook vamos a ver que datos tenemos, su tipo, sus valores nulos, si hay que unificarlos, etc."
   ]
  },
  {
   "cell_type": "markdown",
   "metadata": {},
   "source": [
    "## indice\n",
    "- [Importamos librerias y configuraciones](#importamos-librerias-y-configuraciones)\n",
    "- [Importamos Datos](#importamos-datos)\n",
    "- [Comprobamos longitud de los DataFrames](#comprobamos-longitud-de-los-dataframes)\n",
    "- [Union DataFrames](#union-dataframes)\n",
    "- [Sustitución Valores Binarios (Yes/No, N/Y).](#sustitución-valores-binarios-(yes/no,-n/y).)\n",
    "- [Reducción de datos](#reduccion-de-datos)\n",
    "- [Conversion Tipo Datos](#conversion-tipo-datos)\n",
    "- [Salvamos Datos](#salvamos-datos)"
   ]
  },
  {
   "cell_type": "markdown",
   "metadata": {},
   "source": [
    "---\n",
    "---"
   ]
  },
  {
   "cell_type": "markdown",
   "metadata": {},
   "source": [
    "## Importamos librerias y configuraciones"
   ]
  },
  {
   "cell_type": "code",
   "execution_count": 41,
   "metadata": {},
   "outputs": [
    {
     "name": "stdout",
     "output_type": "stream",
     "text": [
      "The autoreload extension is already loaded. To reload it, use:\n",
      "  %reload_ext autoreload\n"
     ]
    }
   ],
   "source": [
    "%load_ext autoreload\n",
    "%autoreload 2\n",
    "\n",
    "import sys\n",
    "sys.path.append('../')\n",
    "\n",
    "from config import *"
   ]
  },
  {
   "cell_type": "markdown",
   "metadata": {},
   "source": [
    "---\n",
    "---\n",
    "\n",
    "## Importamos Datos"
   ]
  },
  {
   "cell_type": "code",
   "execution_count": 42,
   "metadata": {},
   "outputs": [
    {
     "data": {
      "text/html": [
       "<div>\n",
       "<style scoped>\n",
       "    .dataframe tbody tr th:only-of-type {\n",
       "        vertical-align: middle;\n",
       "    }\n",
       "\n",
       "    .dataframe tbody tr th {\n",
       "        vertical-align: top;\n",
       "    }\n",
       "\n",
       "    .dataframe thead th {\n",
       "        text-align: right;\n",
       "    }\n",
       "</style>\n",
       "<table border=\"1\" class=\"dataframe\">\n",
       "  <thead>\n",
       "    <tr style=\"text-align: right;\">\n",
       "      <th></th>\n",
       "      <th>EmployeeID</th>\n",
       "      <th>EnvironmentSatisfaction</th>\n",
       "      <th>JobSatisfaction</th>\n",
       "      <th>WorkLifeBalance</th>\n",
       "    </tr>\n",
       "  </thead>\n",
       "  <tbody>\n",
       "    <tr>\n",
       "      <th>3839</th>\n",
       "      <td>3840</td>\n",
       "      <td>3.00</td>\n",
       "      <td>3.00</td>\n",
       "      <td>3.00</td>\n",
       "    </tr>\n",
       "  </tbody>\n",
       "</table>\n",
       "</div>"
      ],
      "text/plain": [
       "      EmployeeID  EnvironmentSatisfaction  JobSatisfaction  WorkLifeBalance\n",
       "3839        3840                     3.00             3.00             3.00"
      ]
     },
     "execution_count": 42,
     "metadata": {},
     "output_type": "execute_result"
    }
   ],
   "source": [
    "df_emplo_survey_data = pd.read_csv('../../datos/employee_survey_data.csv').reset_index(drop=True)\n",
    "df_emplo_survey_data.sample()"
   ]
  },
  {
   "cell_type": "code",
   "execution_count": 43,
   "metadata": {},
   "outputs": [
    {
     "data": {
      "text/html": [
       "<div>\n",
       "<style scoped>\n",
       "    .dataframe tbody tr th:only-of-type {\n",
       "        vertical-align: middle;\n",
       "    }\n",
       "\n",
       "    .dataframe tbody tr th {\n",
       "        vertical-align: top;\n",
       "    }\n",
       "\n",
       "    .dataframe thead th {\n",
       "        text-align: right;\n",
       "    }\n",
       "</style>\n",
       "<table border=\"1\" class=\"dataframe\">\n",
       "  <thead>\n",
       "    <tr style=\"text-align: right;\">\n",
       "      <th></th>\n",
       "      <th>Age</th>\n",
       "      <th>Attrition</th>\n",
       "      <th>BusinessTravel</th>\n",
       "      <th>Department</th>\n",
       "      <th>DistanceFromHome</th>\n",
       "      <th>Education</th>\n",
       "      <th>EducationField</th>\n",
       "      <th>EmployeeCount</th>\n",
       "      <th>EmployeeID</th>\n",
       "      <th>Gender</th>\n",
       "      <th>JobLevel</th>\n",
       "      <th>JobRole</th>\n",
       "      <th>MaritalStatus</th>\n",
       "      <th>MonthlyIncome</th>\n",
       "      <th>NumCompaniesWorked</th>\n",
       "      <th>Over18</th>\n",
       "      <th>PercentSalaryHike</th>\n",
       "      <th>StandardHours</th>\n",
       "      <th>StockOptionLevel</th>\n",
       "      <th>TotalWorkingYears</th>\n",
       "      <th>TrainingTimesLastYear</th>\n",
       "      <th>YearsAtCompany</th>\n",
       "      <th>YearsSinceLastPromotion</th>\n",
       "      <th>YearsWithCurrManager</th>\n",
       "    </tr>\n",
       "  </thead>\n",
       "  <tbody>\n",
       "    <tr>\n",
       "      <th>3995</th>\n",
       "      <td>29</td>\n",
       "      <td>Yes</td>\n",
       "      <td>Travel_Rarely</td>\n",
       "      <td>Research &amp; Development</td>\n",
       "      <td>8</td>\n",
       "      <td>2</td>\n",
       "      <td>Medical</td>\n",
       "      <td>1</td>\n",
       "      <td>3996</td>\n",
       "      <td>Male</td>\n",
       "      <td>1</td>\n",
       "      <td>Manager</td>\n",
       "      <td>Divorced</td>\n",
       "      <td>28530</td>\n",
       "      <td>4.00</td>\n",
       "      <td>Y</td>\n",
       "      <td>14</td>\n",
       "      <td>8</td>\n",
       "      <td>1</td>\n",
       "      <td>4.00</td>\n",
       "      <td>5</td>\n",
       "      <td>2</td>\n",
       "      <td>2</td>\n",
       "      <td>0</td>\n",
       "    </tr>\n",
       "  </tbody>\n",
       "</table>\n",
       "</div>"
      ],
      "text/plain": [
       "      Age Attrition BusinessTravel              Department  DistanceFromHome  \\\n",
       "3995   29       Yes  Travel_Rarely  Research & Development                 8   \n",
       "\n",
       "      Education EducationField  EmployeeCount  EmployeeID Gender  JobLevel  \\\n",
       "3995          2        Medical              1        3996   Male         1   \n",
       "\n",
       "      JobRole MaritalStatus  MonthlyIncome  NumCompaniesWorked Over18  \\\n",
       "3995  Manager      Divorced          28530                4.00      Y   \n",
       "\n",
       "      PercentSalaryHike  StandardHours  StockOptionLevel  TotalWorkingYears  \\\n",
       "3995                 14              8                 1               4.00   \n",
       "\n",
       "      TrainingTimesLastYear  YearsAtCompany  YearsSinceLastPromotion  \\\n",
       "3995                      5               2                        2   \n",
       "\n",
       "      YearsWithCurrManager  \n",
       "3995                     0  "
      ]
     },
     "execution_count": 43,
     "metadata": {},
     "output_type": "execute_result"
    }
   ],
   "source": [
    "df_general_data = pd.read_csv('../../datos/general_data.csv').reset_index(drop=True)\n",
    "df_general_data.sample()"
   ]
  },
  {
   "cell_type": "code",
   "execution_count": 44,
   "metadata": {},
   "outputs": [
    {
     "data": {
      "text/html": [
       "<div>\n",
       "<style scoped>\n",
       "    .dataframe tbody tr th:only-of-type {\n",
       "        vertical-align: middle;\n",
       "    }\n",
       "\n",
       "    .dataframe tbody tr th {\n",
       "        vertical-align: top;\n",
       "    }\n",
       "\n",
       "    .dataframe thead th {\n",
       "        text-align: right;\n",
       "    }\n",
       "</style>\n",
       "<table border=\"1\" class=\"dataframe\">\n",
       "  <thead>\n",
       "    <tr style=\"text-align: right;\">\n",
       "      <th></th>\n",
       "      <th>EmployeeID</th>\n",
       "      <th>JobInvolvement</th>\n",
       "      <th>PerformanceRating</th>\n",
       "    </tr>\n",
       "  </thead>\n",
       "  <tbody>\n",
       "    <tr>\n",
       "      <th>2702</th>\n",
       "      <td>2703</td>\n",
       "      <td>2</td>\n",
       "      <td>3</td>\n",
       "    </tr>\n",
       "  </tbody>\n",
       "</table>\n",
       "</div>"
      ],
      "text/plain": [
       "      EmployeeID  JobInvolvement  PerformanceRating\n",
       "2702        2703               2                  3"
      ]
     },
     "execution_count": 44,
     "metadata": {},
     "output_type": "execute_result"
    }
   ],
   "source": [
    "df_mana_survey_data = pd.read_csv('../../datos/manager_survey_data.csv').reset_index(drop=True)\n",
    "df_mana_survey_data.sample()"
   ]
  },
  {
   "cell_type": "markdown",
   "metadata": {},
   "source": [
    "---\n",
    "---\n",
    "\n",
    "## Comprobamos longitud de los DataFrames\n",
    "\n",
    "#### (comprobamos que los 3dfs tengan el mismo número de filas)"
   ]
  },
  {
   "cell_type": "code",
   "execution_count": 45,
   "metadata": {},
   "outputs": [
    {
     "data": {
      "text/plain": [
       "{4410}"
      ]
     },
     "execution_count": 45,
     "metadata": {},
     "output_type": "execute_result"
    }
   ],
   "source": [
    "len_dfs = [df_general_data.shape[0], df_emplo_survey_data.shape[0], df_mana_survey_data.shape[0]]\n",
    "set(len_dfs)"
   ]
  },
  {
   "cell_type": "markdown",
   "metadata": {},
   "source": [
    "#### como podemos ver, todas tienen 4410 filas, ya que si no, al convertir la lista en un set y por defecto, eliminar los valores repetidos, en caso de haber longitudes diferentes, nos saldrían más de un unico valor."
   ]
  },
  {
   "cell_type": "markdown",
   "metadata": {},
   "source": [
    "---\n",
    "---\n",
    "\n",
    "## Union DataFrames"
   ]
  },
  {
   "cell_type": "markdown",
   "metadata": {},
   "source": [
    "#### Ahora que hemos visto que tenemos el mismo número de filas, vamos a unir todos los datos en un dataframe mediante el ```EmployeeID``` [también nos hemos asegurado que EmployeeID tiene el mismo nombre en los 3 dfs]"
   ]
  },
  {
   "cell_type": "markdown",
   "metadata": {},
   "source": [
    "#### cambiamos los nombres de las columnas del df ```df_mana_survey_data``` para que luego sepamos que pertenecen a la opinión del manager sobre ese empleado."
   ]
  },
  {
   "cell_type": "code",
   "execution_count": 46,
   "metadata": {},
   "outputs": [
    {
     "data": {
      "text/html": [
       "<div>\n",
       "<style scoped>\n",
       "    .dataframe tbody tr th:only-of-type {\n",
       "        vertical-align: middle;\n",
       "    }\n",
       "\n",
       "    .dataframe tbody tr th {\n",
       "        vertical-align: top;\n",
       "    }\n",
       "\n",
       "    .dataframe thead th {\n",
       "        text-align: right;\n",
       "    }\n",
       "</style>\n",
       "<table border=\"1\" class=\"dataframe\">\n",
       "  <thead>\n",
       "    <tr style=\"text-align: right;\">\n",
       "      <th></th>\n",
       "      <th>EmployeeID</th>\n",
       "      <th>Manager_opinion_JobInvolvement</th>\n",
       "      <th>Manager_opinion_PerformanceRating</th>\n",
       "    </tr>\n",
       "  </thead>\n",
       "  <tbody>\n",
       "    <tr>\n",
       "      <th>2655</th>\n",
       "      <td>2656</td>\n",
       "      <td>2</td>\n",
       "      <td>4</td>\n",
       "    </tr>\n",
       "  </tbody>\n",
       "</table>\n",
       "</div>"
      ],
      "text/plain": [
       "      EmployeeID  Manager_opinion_JobInvolvement  \\\n",
       "2655        2656                               2   \n",
       "\n",
       "      Manager_opinion_PerformanceRating  \n",
       "2655                                  4  "
      ]
     },
     "execution_count": 46,
     "metadata": {},
     "output_type": "execute_result"
    }
   ],
   "source": [
    "df_mana_survey_data.columns = ['EmployeeID', 'Manager_opinion_JobInvolvement', 'Manager_opinion_PerformanceRating']\n",
    "df_mana_survey_data.sample()"
   ]
  },
  {
   "cell_type": "code",
   "execution_count": 47,
   "metadata": {},
   "outputs": [
    {
     "data": {
      "text/html": [
       "<div>\n",
       "<style scoped>\n",
       "    .dataframe tbody tr th:only-of-type {\n",
       "        vertical-align: middle;\n",
       "    }\n",
       "\n",
       "    .dataframe tbody tr th {\n",
       "        vertical-align: top;\n",
       "    }\n",
       "\n",
       "    .dataframe thead th {\n",
       "        text-align: right;\n",
       "    }\n",
       "</style>\n",
       "<table border=\"1\" class=\"dataframe\">\n",
       "  <thead>\n",
       "    <tr style=\"text-align: right;\">\n",
       "      <th></th>\n",
       "      <th>EmployeeID</th>\n",
       "      <th>EnvironmentSatisfaction</th>\n",
       "      <th>JobSatisfaction</th>\n",
       "      <th>WorkLifeBalance</th>\n",
       "      <th>Age</th>\n",
       "      <th>Attrition</th>\n",
       "      <th>BusinessTravel</th>\n",
       "      <th>Department</th>\n",
       "      <th>DistanceFromHome</th>\n",
       "      <th>Education</th>\n",
       "      <th>EducationField</th>\n",
       "      <th>EmployeeCount</th>\n",
       "      <th>Gender</th>\n",
       "      <th>JobLevel</th>\n",
       "      <th>JobRole</th>\n",
       "      <th>MaritalStatus</th>\n",
       "      <th>MonthlyIncome</th>\n",
       "      <th>NumCompaniesWorked</th>\n",
       "      <th>Over18</th>\n",
       "      <th>PercentSalaryHike</th>\n",
       "      <th>StandardHours</th>\n",
       "      <th>StockOptionLevel</th>\n",
       "      <th>TotalWorkingYears</th>\n",
       "      <th>TrainingTimesLastYear</th>\n",
       "      <th>YearsAtCompany</th>\n",
       "      <th>YearsSinceLastPromotion</th>\n",
       "      <th>YearsWithCurrManager</th>\n",
       "      <th>Manager_opinion_JobInvolvement</th>\n",
       "      <th>Manager_opinion_PerformanceRating</th>\n",
       "    </tr>\n",
       "  </thead>\n",
       "  <tbody>\n",
       "    <tr>\n",
       "      <th>3354</th>\n",
       "      <td>3355</td>\n",
       "      <td>3.00</td>\n",
       "      <td>3.00</td>\n",
       "      <td>3.00</td>\n",
       "      <td>42</td>\n",
       "      <td>No</td>\n",
       "      <td>Travel_Rarely</td>\n",
       "      <td>Sales</td>\n",
       "      <td>11</td>\n",
       "      <td>1</td>\n",
       "      <td>Technical Degree</td>\n",
       "      <td>1</td>\n",
       "      <td>Male</td>\n",
       "      <td>2</td>\n",
       "      <td>Human Resources</td>\n",
       "      <td>Single</td>\n",
       "      <td>59400</td>\n",
       "      <td>7.00</td>\n",
       "      <td>Y</td>\n",
       "      <td>16</td>\n",
       "      <td>8</td>\n",
       "      <td>0</td>\n",
       "      <td>10.00</td>\n",
       "      <td>2</td>\n",
       "      <td>5</td>\n",
       "      <td>0</td>\n",
       "      <td>3</td>\n",
       "      <td>2</td>\n",
       "      <td>3</td>\n",
       "    </tr>\n",
       "  </tbody>\n",
       "</table>\n",
       "</div>"
      ],
      "text/plain": [
       "      EmployeeID  EnvironmentSatisfaction  JobSatisfaction  WorkLifeBalance  \\\n",
       "3354        3355                     3.00             3.00             3.00   \n",
       "\n",
       "      Age Attrition BusinessTravel Department  DistanceFromHome  Education  \\\n",
       "3354   42        No  Travel_Rarely      Sales                11          1   \n",
       "\n",
       "        EducationField  EmployeeCount Gender  JobLevel          JobRole  \\\n",
       "3354  Technical Degree              1   Male         2  Human Resources   \n",
       "\n",
       "     MaritalStatus  MonthlyIncome  NumCompaniesWorked Over18  \\\n",
       "3354        Single          59400                7.00      Y   \n",
       "\n",
       "      PercentSalaryHike  StandardHours  StockOptionLevel  TotalWorkingYears  \\\n",
       "3354                 16              8                 0              10.00   \n",
       "\n",
       "      TrainingTimesLastYear  YearsAtCompany  YearsSinceLastPromotion  \\\n",
       "3354                      2               5                        0   \n",
       "\n",
       "      YearsWithCurrManager  Manager_opinion_JobInvolvement  \\\n",
       "3354                     3                               2   \n",
       "\n",
       "      Manager_opinion_PerformanceRating  \n",
       "3354                                  3  "
      ]
     },
     "execution_count": 47,
     "metadata": {},
     "output_type": "execute_result"
    }
   ],
   "source": [
    "df = df_emplo_survey_data.merge(df_general_data, on='EmployeeID').merge(df_mana_survey_data, on='EmployeeID')\n",
    "df.sample()"
   ]
  },
  {
   "cell_type": "markdown",
   "metadata": {},
   "source": [
    "#### comprobamos si tenemos duplicados"
   ]
  },
  {
   "cell_type": "code",
   "execution_count": 48,
   "metadata": {},
   "outputs": [
    {
     "data": {
      "text/plain": [
       "0"
      ]
     },
     "execution_count": 48,
     "metadata": {},
     "output_type": "execute_result"
    }
   ],
   "source": [
    "df.duplicated().sum()"
   ]
  },
  {
   "cell_type": "markdown",
   "metadata": {},
   "source": [
    "---\n",
    "---\n",
    "\n",
    "## Sustitución Valores Binarios (Yes/No, N/Y).\n",
    "\n",
    "#### Vamos a sustituir los valores (Yes/No, N/Y) por Booleanos True y False.\n",
    "\n",
    "#### Variables a modificar: \n",
    "- Attrition\n",
    "- Over18"
   ]
  },
  {
   "cell_type": "code",
   "execution_count": null,
   "metadata": {},
   "outputs": [
    {
     "data": {
      "text/plain": [
       "array(['No', 'Yes'], dtype=object)"
      ]
     },
     "execution_count": 49,
     "metadata": {},
     "output_type": "execute_result"
    }
   ],
   "source": [
    "df['Attrition'].unique()"
   ]
  },
  {
   "cell_type": "code",
   "execution_count": null,
   "metadata": {},
   "outputs": [
    {
     "data": {
      "text/plain": [
       "array(['Y'], dtype=object)"
      ]
     },
     "execution_count": 50,
     "metadata": {},
     "output_type": "execute_result"
    }
   ],
   "source": [
    "df['Over18'].unique()"
   ]
  },
  {
   "cell_type": "code",
   "execution_count": null,
   "metadata": {},
   "outputs": [
    {
     "data": {
      "text/plain": [
       "Over18\n",
       "Y    4410\n",
       "Name: count, dtype: int64"
      ]
     },
     "execution_count": 51,
     "metadata": {},
     "output_type": "execute_result"
    }
   ],
   "source": [
    "df['Over18'].value_counts()"
   ]
  },
  {
   "cell_type": "markdown",
   "metadata": {},
   "source": [
    "#### hemos visto que ```Over18``` tiene un 100 de 'Y' como valor [lo cual tiene sentido], por lo que la vamos a eliminar de nuestro df"
   ]
  },
  {
   "cell_type": "code",
   "execution_count": null,
   "metadata": {},
   "outputs": [],
   "source": [
    "df.drop(columns=['Over18'], inplace=True)\n",
    "\n",
    "df['Attrition'] = df['Attrition'].map({'No': False, 'Yes': True})"
   ]
  },
  {
   "cell_type": "code",
   "execution_count": null,
   "metadata": {},
   "outputs": [
    {
     "data": {
      "text/html": [
       "<div>\n",
       "<style scoped>\n",
       "    .dataframe tbody tr th:only-of-type {\n",
       "        vertical-align: middle;\n",
       "    }\n",
       "\n",
       "    .dataframe tbody tr th {\n",
       "        vertical-align: top;\n",
       "    }\n",
       "\n",
       "    .dataframe thead th {\n",
       "        text-align: right;\n",
       "    }\n",
       "</style>\n",
       "<table border=\"1\" class=\"dataframe\">\n",
       "  <thead>\n",
       "    <tr style=\"text-align: right;\">\n",
       "      <th></th>\n",
       "      <th>EmployeeID</th>\n",
       "      <th>EnvironmentSatisfaction</th>\n",
       "      <th>JobSatisfaction</th>\n",
       "      <th>WorkLifeBalance</th>\n",
       "      <th>Age</th>\n",
       "      <th>Attrition</th>\n",
       "      <th>BusinessTravel</th>\n",
       "      <th>Department</th>\n",
       "      <th>DistanceFromHome</th>\n",
       "      <th>Education</th>\n",
       "      <th>EducationField</th>\n",
       "      <th>EmployeeCount</th>\n",
       "      <th>Gender</th>\n",
       "      <th>JobLevel</th>\n",
       "      <th>JobRole</th>\n",
       "      <th>MaritalStatus</th>\n",
       "      <th>MonthlyIncome</th>\n",
       "      <th>NumCompaniesWorked</th>\n",
       "      <th>PercentSalaryHike</th>\n",
       "      <th>StandardHours</th>\n",
       "      <th>StockOptionLevel</th>\n",
       "      <th>TotalWorkingYears</th>\n",
       "      <th>TrainingTimesLastYear</th>\n",
       "      <th>YearsAtCompany</th>\n",
       "      <th>YearsSinceLastPromotion</th>\n",
       "      <th>YearsWithCurrManager</th>\n",
       "      <th>Manager_opinion_JobInvolvement</th>\n",
       "      <th>Manager_opinion_PerformanceRating</th>\n",
       "    </tr>\n",
       "  </thead>\n",
       "  <tbody>\n",
       "    <tr>\n",
       "      <th>552</th>\n",
       "      <td>553</td>\n",
       "      <td>1.00</td>\n",
       "      <td>3.00</td>\n",
       "      <td>3.00</td>\n",
       "      <td>46</td>\n",
       "      <td>False</td>\n",
       "      <td>Travel_Rarely</td>\n",
       "      <td>Research &amp; Development</td>\n",
       "      <td>6</td>\n",
       "      <td>4</td>\n",
       "      <td>Medical</td>\n",
       "      <td>1</td>\n",
       "      <td>Male</td>\n",
       "      <td>3</td>\n",
       "      <td>Sales Executive</td>\n",
       "      <td>Married</td>\n",
       "      <td>21740</td>\n",
       "      <td>3.00</td>\n",
       "      <td>11</td>\n",
       "      <td>8</td>\n",
       "      <td>1</td>\n",
       "      <td>23.00</td>\n",
       "      <td>3</td>\n",
       "      <td>12</td>\n",
       "      <td>4</td>\n",
       "      <td>9</td>\n",
       "      <td>3</td>\n",
       "      <td>3</td>\n",
       "    </tr>\n",
       "    <tr>\n",
       "      <th>855</th>\n",
       "      <td>856</td>\n",
       "      <td>4.00</td>\n",
       "      <td>1.00</td>\n",
       "      <td>2.00</td>\n",
       "      <td>32</td>\n",
       "      <td>False</td>\n",
       "      <td>Non-Travel</td>\n",
       "      <td>Research &amp; Development</td>\n",
       "      <td>10</td>\n",
       "      <td>4</td>\n",
       "      <td>Life Sciences</td>\n",
       "      <td>1</td>\n",
       "      <td>Female</td>\n",
       "      <td>5</td>\n",
       "      <td>Research Scientist</td>\n",
       "      <td>Married</td>\n",
       "      <td>23800</td>\n",
       "      <td>4.00</td>\n",
       "      <td>13</td>\n",
       "      <td>8</td>\n",
       "      <td>0</td>\n",
       "      <td>9.00</td>\n",
       "      <td>5</td>\n",
       "      <td>6</td>\n",
       "      <td>1</td>\n",
       "      <td>2</td>\n",
       "      <td>3</td>\n",
       "      <td>3</td>\n",
       "    </tr>\n",
       "    <tr>\n",
       "      <th>3457</th>\n",
       "      <td>3458</td>\n",
       "      <td>3.00</td>\n",
       "      <td>4.00</td>\n",
       "      <td>3.00</td>\n",
       "      <td>43</td>\n",
       "      <td>False</td>\n",
       "      <td>Travel_Rarely</td>\n",
       "      <td>Sales</td>\n",
       "      <td>25</td>\n",
       "      <td>2</td>\n",
       "      <td>Life Sciences</td>\n",
       "      <td>1</td>\n",
       "      <td>Male</td>\n",
       "      <td>3</td>\n",
       "      <td>Research Scientist</td>\n",
       "      <td>Divorced</td>\n",
       "      <td>50550</td>\n",
       "      <td>5.00</td>\n",
       "      <td>22</td>\n",
       "      <td>8</td>\n",
       "      <td>0</td>\n",
       "      <td>18.00</td>\n",
       "      <td>2</td>\n",
       "      <td>1</td>\n",
       "      <td>0</td>\n",
       "      <td>0</td>\n",
       "      <td>2</td>\n",
       "      <td>4</td>\n",
       "    </tr>\n",
       "  </tbody>\n",
       "</table>\n",
       "</div>"
      ],
      "text/plain": [
       "      EmployeeID  EnvironmentSatisfaction  JobSatisfaction  WorkLifeBalance  \\\n",
       "552          553                     1.00             3.00             3.00   \n",
       "855          856                     4.00             1.00             2.00   \n",
       "3457        3458                     3.00             4.00             3.00   \n",
       "\n",
       "      Age  Attrition BusinessTravel              Department  DistanceFromHome  \\\n",
       "552    46      False  Travel_Rarely  Research & Development                 6   \n",
       "855    32      False     Non-Travel  Research & Development                10   \n",
       "3457   43      False  Travel_Rarely                   Sales                25   \n",
       "\n",
       "      Education EducationField  EmployeeCount  Gender  JobLevel  \\\n",
       "552           4        Medical              1    Male         3   \n",
       "855           4  Life Sciences              1  Female         5   \n",
       "3457          2  Life Sciences              1    Male         3   \n",
       "\n",
       "                 JobRole MaritalStatus  MonthlyIncome  NumCompaniesWorked  \\\n",
       "552      Sales Executive       Married          21740                3.00   \n",
       "855   Research Scientist       Married          23800                4.00   \n",
       "3457  Research Scientist      Divorced          50550                5.00   \n",
       "\n",
       "      PercentSalaryHike  StandardHours  StockOptionLevel  TotalWorkingYears  \\\n",
       "552                  11              8                 1              23.00   \n",
       "855                  13              8                 0               9.00   \n",
       "3457                 22              8                 0              18.00   \n",
       "\n",
       "      TrainingTimesLastYear  YearsAtCompany  YearsSinceLastPromotion  \\\n",
       "552                       3              12                        4   \n",
       "855                       5               6                        1   \n",
       "3457                      2               1                        0   \n",
       "\n",
       "      YearsWithCurrManager  Manager_opinion_JobInvolvement  \\\n",
       "552                      9                               3   \n",
       "855                      2                               3   \n",
       "3457                     0                               2   \n",
       "\n",
       "      Manager_opinion_PerformanceRating  \n",
       "552                                   3  \n",
       "855                                   3  \n",
       "3457                                  4  "
      ]
     },
     "execution_count": 53,
     "metadata": {},
     "output_type": "execute_result"
    }
   ],
   "source": [
    "df.sample(3)"
   ]
  },
  {
   "cell_type": "markdown",
   "metadata": {},
   "source": [
    "---\n",
    "---\n",
    "\n",
    "## Conversion Tipo Datos\n",
    "\n",
    "#### Vamos a comprobar el tipo de dato que tienen nuestras varibales junto a su valor y en caso de que sea necesario, cambiarlo, eliminar la columna, etc."
   ]
  },
  {
   "cell_type": "code",
   "execution_count": null,
   "metadata": {},
   "outputs": [
    {
     "name": "stdout",
     "output_type": "stream",
     "text": [
      "<class 'pandas.core.frame.DataFrame'>\n",
      "RangeIndex: 4410 entries, 0 to 4409\n",
      "Data columns (total 28 columns):\n",
      " #   Column                             Non-Null Count  Dtype  \n",
      "---  ------                             --------------  -----  \n",
      " 0   EmployeeID                         4410 non-null   int64  \n",
      " 1   EnvironmentSatisfaction            4385 non-null   float64\n",
      " 2   JobSatisfaction                    4390 non-null   float64\n",
      " 3   WorkLifeBalance                    4372 non-null   float64\n",
      " 4   Age                                4410 non-null   int64  \n",
      " 5   Attrition                          4410 non-null   bool   \n",
      " 6   BusinessTravel                     4410 non-null   object \n",
      " 7   Department                         4410 non-null   object \n",
      " 8   DistanceFromHome                   4410 non-null   int64  \n",
      " 9   Education                          4410 non-null   int64  \n",
      " 10  EducationField                     4410 non-null   object \n",
      " 11  EmployeeCount                      4410 non-null   int64  \n",
      " 12  Gender                             4410 non-null   object \n",
      " 13  JobLevel                           4410 non-null   int64  \n",
      " 14  JobRole                            4410 non-null   object \n",
      " 15  MaritalStatus                      4410 non-null   object \n",
      " 16  MonthlyIncome                      4410 non-null   int64  \n",
      " 17  NumCompaniesWorked                 4391 non-null   float64\n",
      " 18  PercentSalaryHike                  4410 non-null   int64  \n",
      " 19  StandardHours                      4410 non-null   int64  \n",
      " 20  StockOptionLevel                   4410 non-null   int64  \n",
      " 21  TotalWorkingYears                  4401 non-null   float64\n",
      " 22  TrainingTimesLastYear              4410 non-null   int64  \n",
      " 23  YearsAtCompany                     4410 non-null   int64  \n",
      " 24  YearsSinceLastPromotion            4410 non-null   int64  \n",
      " 25  YearsWithCurrManager               4410 non-null   int64  \n",
      " 26  Manager_opinion_JobInvolvement     4410 non-null   int64  \n",
      " 27  Manager_opinion_PerformanceRating  4410 non-null   int64  \n",
      "dtypes: bool(1), float64(5), int64(16), object(6)\n",
      "memory usage: 934.7+ KB\n"
     ]
    }
   ],
   "source": [
    "df.info()"
   ]
  },
  {
   "cell_type": "code",
   "execution_count": null,
   "metadata": {},
   "outputs": [
    {
     "data": {
      "text/html": [
       "<div>\n",
       "<style scoped>\n",
       "    .dataframe tbody tr th:only-of-type {\n",
       "        vertical-align: middle;\n",
       "    }\n",
       "\n",
       "    .dataframe tbody tr th {\n",
       "        vertical-align: top;\n",
       "    }\n",
       "\n",
       "    .dataframe thead th {\n",
       "        text-align: right;\n",
       "    }\n",
       "</style>\n",
       "<table border=\"1\" class=\"dataframe\">\n",
       "  <thead>\n",
       "    <tr style=\"text-align: right;\">\n",
       "      <th></th>\n",
       "      <th>count</th>\n",
       "      <th>mean</th>\n",
       "      <th>std</th>\n",
       "      <th>min</th>\n",
       "      <th>25%</th>\n",
       "      <th>50%</th>\n",
       "      <th>75%</th>\n",
       "      <th>max</th>\n",
       "    </tr>\n",
       "  </thead>\n",
       "  <tbody>\n",
       "    <tr>\n",
       "      <th>EmployeeID</th>\n",
       "      <td>4410.00</td>\n",
       "      <td>2205.50</td>\n",
       "      <td>1273.20</td>\n",
       "      <td>1.00</td>\n",
       "      <td>1103.25</td>\n",
       "      <td>2205.50</td>\n",
       "      <td>3307.75</td>\n",
       "      <td>4410.00</td>\n",
       "    </tr>\n",
       "    <tr>\n",
       "      <th>EnvironmentSatisfaction</th>\n",
       "      <td>4385.00</td>\n",
       "      <td>2.72</td>\n",
       "      <td>1.09</td>\n",
       "      <td>1.00</td>\n",
       "      <td>2.00</td>\n",
       "      <td>3.00</td>\n",
       "      <td>4.00</td>\n",
       "      <td>4.00</td>\n",
       "    </tr>\n",
       "    <tr>\n",
       "      <th>JobSatisfaction</th>\n",
       "      <td>4390.00</td>\n",
       "      <td>2.73</td>\n",
       "      <td>1.10</td>\n",
       "      <td>1.00</td>\n",
       "      <td>2.00</td>\n",
       "      <td>3.00</td>\n",
       "      <td>4.00</td>\n",
       "      <td>4.00</td>\n",
       "    </tr>\n",
       "    <tr>\n",
       "      <th>WorkLifeBalance</th>\n",
       "      <td>4372.00</td>\n",
       "      <td>2.76</td>\n",
       "      <td>0.71</td>\n",
       "      <td>1.00</td>\n",
       "      <td>2.00</td>\n",
       "      <td>3.00</td>\n",
       "      <td>3.00</td>\n",
       "      <td>4.00</td>\n",
       "    </tr>\n",
       "    <tr>\n",
       "      <th>Age</th>\n",
       "      <td>4410.00</td>\n",
       "      <td>36.92</td>\n",
       "      <td>9.13</td>\n",
       "      <td>18.00</td>\n",
       "      <td>30.00</td>\n",
       "      <td>36.00</td>\n",
       "      <td>43.00</td>\n",
       "      <td>60.00</td>\n",
       "    </tr>\n",
       "    <tr>\n",
       "      <th>DistanceFromHome</th>\n",
       "      <td>4410.00</td>\n",
       "      <td>9.19</td>\n",
       "      <td>8.11</td>\n",
       "      <td>1.00</td>\n",
       "      <td>2.00</td>\n",
       "      <td>7.00</td>\n",
       "      <td>14.00</td>\n",
       "      <td>29.00</td>\n",
       "    </tr>\n",
       "    <tr>\n",
       "      <th>Education</th>\n",
       "      <td>4410.00</td>\n",
       "      <td>2.91</td>\n",
       "      <td>1.02</td>\n",
       "      <td>1.00</td>\n",
       "      <td>2.00</td>\n",
       "      <td>3.00</td>\n",
       "      <td>4.00</td>\n",
       "      <td>5.00</td>\n",
       "    </tr>\n",
       "    <tr>\n",
       "      <th>EmployeeCount</th>\n",
       "      <td>4410.00</td>\n",
       "      <td>1.00</td>\n",
       "      <td>0.00</td>\n",
       "      <td>1.00</td>\n",
       "      <td>1.00</td>\n",
       "      <td>1.00</td>\n",
       "      <td>1.00</td>\n",
       "      <td>1.00</td>\n",
       "    </tr>\n",
       "    <tr>\n",
       "      <th>JobLevel</th>\n",
       "      <td>4410.00</td>\n",
       "      <td>2.06</td>\n",
       "      <td>1.11</td>\n",
       "      <td>1.00</td>\n",
       "      <td>1.00</td>\n",
       "      <td>2.00</td>\n",
       "      <td>3.00</td>\n",
       "      <td>5.00</td>\n",
       "    </tr>\n",
       "    <tr>\n",
       "      <th>MonthlyIncome</th>\n",
       "      <td>4410.00</td>\n",
       "      <td>65029.31</td>\n",
       "      <td>47068.89</td>\n",
       "      <td>10090.00</td>\n",
       "      <td>29110.00</td>\n",
       "      <td>49190.00</td>\n",
       "      <td>83800.00</td>\n",
       "      <td>199990.00</td>\n",
       "    </tr>\n",
       "    <tr>\n",
       "      <th>NumCompaniesWorked</th>\n",
       "      <td>4391.00</td>\n",
       "      <td>2.69</td>\n",
       "      <td>2.50</td>\n",
       "      <td>0.00</td>\n",
       "      <td>1.00</td>\n",
       "      <td>2.00</td>\n",
       "      <td>4.00</td>\n",
       "      <td>9.00</td>\n",
       "    </tr>\n",
       "    <tr>\n",
       "      <th>PercentSalaryHike</th>\n",
       "      <td>4410.00</td>\n",
       "      <td>15.21</td>\n",
       "      <td>3.66</td>\n",
       "      <td>11.00</td>\n",
       "      <td>12.00</td>\n",
       "      <td>14.00</td>\n",
       "      <td>18.00</td>\n",
       "      <td>25.00</td>\n",
       "    </tr>\n",
       "    <tr>\n",
       "      <th>StandardHours</th>\n",
       "      <td>4410.00</td>\n",
       "      <td>8.00</td>\n",
       "      <td>0.00</td>\n",
       "      <td>8.00</td>\n",
       "      <td>8.00</td>\n",
       "      <td>8.00</td>\n",
       "      <td>8.00</td>\n",
       "      <td>8.00</td>\n",
       "    </tr>\n",
       "    <tr>\n",
       "      <th>StockOptionLevel</th>\n",
       "      <td>4410.00</td>\n",
       "      <td>0.79</td>\n",
       "      <td>0.85</td>\n",
       "      <td>0.00</td>\n",
       "      <td>0.00</td>\n",
       "      <td>1.00</td>\n",
       "      <td>1.00</td>\n",
       "      <td>3.00</td>\n",
       "    </tr>\n",
       "    <tr>\n",
       "      <th>TotalWorkingYears</th>\n",
       "      <td>4401.00</td>\n",
       "      <td>11.28</td>\n",
       "      <td>7.78</td>\n",
       "      <td>0.00</td>\n",
       "      <td>6.00</td>\n",
       "      <td>10.00</td>\n",
       "      <td>15.00</td>\n",
       "      <td>40.00</td>\n",
       "    </tr>\n",
       "    <tr>\n",
       "      <th>TrainingTimesLastYear</th>\n",
       "      <td>4410.00</td>\n",
       "      <td>2.80</td>\n",
       "      <td>1.29</td>\n",
       "      <td>0.00</td>\n",
       "      <td>2.00</td>\n",
       "      <td>3.00</td>\n",
       "      <td>3.00</td>\n",
       "      <td>6.00</td>\n",
       "    </tr>\n",
       "    <tr>\n",
       "      <th>YearsAtCompany</th>\n",
       "      <td>4410.00</td>\n",
       "      <td>7.01</td>\n",
       "      <td>6.13</td>\n",
       "      <td>0.00</td>\n",
       "      <td>3.00</td>\n",
       "      <td>5.00</td>\n",
       "      <td>9.00</td>\n",
       "      <td>40.00</td>\n",
       "    </tr>\n",
       "    <tr>\n",
       "      <th>YearsSinceLastPromotion</th>\n",
       "      <td>4410.00</td>\n",
       "      <td>2.19</td>\n",
       "      <td>3.22</td>\n",
       "      <td>0.00</td>\n",
       "      <td>0.00</td>\n",
       "      <td>1.00</td>\n",
       "      <td>3.00</td>\n",
       "      <td>15.00</td>\n",
       "    </tr>\n",
       "    <tr>\n",
       "      <th>YearsWithCurrManager</th>\n",
       "      <td>4410.00</td>\n",
       "      <td>4.12</td>\n",
       "      <td>3.57</td>\n",
       "      <td>0.00</td>\n",
       "      <td>2.00</td>\n",
       "      <td>3.00</td>\n",
       "      <td>7.00</td>\n",
       "      <td>17.00</td>\n",
       "    </tr>\n",
       "    <tr>\n",
       "      <th>Manager_opinion_JobInvolvement</th>\n",
       "      <td>4410.00</td>\n",
       "      <td>2.73</td>\n",
       "      <td>0.71</td>\n",
       "      <td>1.00</td>\n",
       "      <td>2.00</td>\n",
       "      <td>3.00</td>\n",
       "      <td>3.00</td>\n",
       "      <td>4.00</td>\n",
       "    </tr>\n",
       "    <tr>\n",
       "      <th>Manager_opinion_PerformanceRating</th>\n",
       "      <td>4410.00</td>\n",
       "      <td>3.15</td>\n",
       "      <td>0.36</td>\n",
       "      <td>3.00</td>\n",
       "      <td>3.00</td>\n",
       "      <td>3.00</td>\n",
       "      <td>3.00</td>\n",
       "      <td>4.00</td>\n",
       "    </tr>\n",
       "  </tbody>\n",
       "</table>\n",
       "</div>"
      ],
      "text/plain": [
       "                                    count     mean      std      min      25%  \\\n",
       "EmployeeID                        4410.00  2205.50  1273.20     1.00  1103.25   \n",
       "EnvironmentSatisfaction           4385.00     2.72     1.09     1.00     2.00   \n",
       "JobSatisfaction                   4390.00     2.73     1.10     1.00     2.00   \n",
       "WorkLifeBalance                   4372.00     2.76     0.71     1.00     2.00   \n",
       "Age                               4410.00    36.92     9.13    18.00    30.00   \n",
       "DistanceFromHome                  4410.00     9.19     8.11     1.00     2.00   \n",
       "Education                         4410.00     2.91     1.02     1.00     2.00   \n",
       "EmployeeCount                     4410.00     1.00     0.00     1.00     1.00   \n",
       "JobLevel                          4410.00     2.06     1.11     1.00     1.00   \n",
       "MonthlyIncome                     4410.00 65029.31 47068.89 10090.00 29110.00   \n",
       "NumCompaniesWorked                4391.00     2.69     2.50     0.00     1.00   \n",
       "PercentSalaryHike                 4410.00    15.21     3.66    11.00    12.00   \n",
       "StandardHours                     4410.00     8.00     0.00     8.00     8.00   \n",
       "StockOptionLevel                  4410.00     0.79     0.85     0.00     0.00   \n",
       "TotalWorkingYears                 4401.00    11.28     7.78     0.00     6.00   \n",
       "TrainingTimesLastYear             4410.00     2.80     1.29     0.00     2.00   \n",
       "YearsAtCompany                    4410.00     7.01     6.13     0.00     3.00   \n",
       "YearsSinceLastPromotion           4410.00     2.19     3.22     0.00     0.00   \n",
       "YearsWithCurrManager              4410.00     4.12     3.57     0.00     2.00   \n",
       "Manager_opinion_JobInvolvement    4410.00     2.73     0.71     1.00     2.00   \n",
       "Manager_opinion_PerformanceRating 4410.00     3.15     0.36     3.00     3.00   \n",
       "\n",
       "                                       50%      75%       max  \n",
       "EmployeeID                         2205.50  3307.75   4410.00  \n",
       "EnvironmentSatisfaction               3.00     4.00      4.00  \n",
       "JobSatisfaction                       3.00     4.00      4.00  \n",
       "WorkLifeBalance                       3.00     3.00      4.00  \n",
       "Age                                  36.00    43.00     60.00  \n",
       "DistanceFromHome                      7.00    14.00     29.00  \n",
       "Education                             3.00     4.00      5.00  \n",
       "EmployeeCount                         1.00     1.00      1.00  \n",
       "JobLevel                              2.00     3.00      5.00  \n",
       "MonthlyIncome                     49190.00 83800.00 199990.00  \n",
       "NumCompaniesWorked                    2.00     4.00      9.00  \n",
       "PercentSalaryHike                    14.00    18.00     25.00  \n",
       "StandardHours                         8.00     8.00      8.00  \n",
       "StockOptionLevel                      1.00     1.00      3.00  \n",
       "TotalWorkingYears                    10.00    15.00     40.00  \n",
       "TrainingTimesLastYear                 3.00     3.00      6.00  \n",
       "YearsAtCompany                        5.00     9.00     40.00  \n",
       "YearsSinceLastPromotion               1.00     3.00     15.00  \n",
       "YearsWithCurrManager                  3.00     7.00     17.00  \n",
       "Manager_opinion_JobInvolvement        3.00     3.00      4.00  \n",
       "Manager_opinion_PerformanceRating     3.00     3.00      4.00  "
      ]
     },
     "execution_count": 55,
     "metadata": {},
     "output_type": "execute_result"
    }
   ],
   "source": [
    "df.describe().T"
   ]
  },
  {
   "cell_type": "markdown",
   "metadata": {},
   "source": [
    "#### **Cambios que vamos a hacer:**\n",
    "\n",
    "##### **Eliminación de columnas**\n",
    "\n",
    "- ```EmployeeID``` ya que para entrenar a nuestro modelo predictivo no nos aporta información. Más adelante para otro tipo de estudio si nos puede ser útil.\n",
    "\n",
    "- ```EmployeeCount``` ya que todos los registros contienen el valor de 1.\n",
    "\n",
    "- ```StandardHours``` ya que todos los registros contienen el valor de 8 horas.\n",
    "\n",
    "guardamos los datos para otro posible estudio ya que lo tenemos todo unido y con los tipos de datos correctos."
   ]
  },
  {
   "cell_type": "code",
   "execution_count": null,
   "metadata": {},
   "outputs": [],
   "source": [
    "df.to_pickle('../../datos/futuro_estudio/df_employee_data.pkl')"
   ]
  },
  {
   "cell_type": "markdown",
   "metadata": {},
   "source": [
    "Procedemos con la eliminación de columnas"
   ]
  },
  {
   "cell_type": "code",
   "execution_count": null,
   "metadata": {},
   "outputs": [
    {
     "data": {
      "text/html": [
       "<div>\n",
       "<style scoped>\n",
       "    .dataframe tbody tr th:only-of-type {\n",
       "        vertical-align: middle;\n",
       "    }\n",
       "\n",
       "    .dataframe tbody tr th {\n",
       "        vertical-align: top;\n",
       "    }\n",
       "\n",
       "    .dataframe thead th {\n",
       "        text-align: right;\n",
       "    }\n",
       "</style>\n",
       "<table border=\"1\" class=\"dataframe\">\n",
       "  <thead>\n",
       "    <tr style=\"text-align: right;\">\n",
       "      <th></th>\n",
       "      <th>EnvironmentSatisfaction</th>\n",
       "      <th>JobSatisfaction</th>\n",
       "      <th>WorkLifeBalance</th>\n",
       "      <th>Age</th>\n",
       "      <th>Attrition</th>\n",
       "      <th>BusinessTravel</th>\n",
       "      <th>Department</th>\n",
       "      <th>DistanceFromHome</th>\n",
       "      <th>Education</th>\n",
       "      <th>EducationField</th>\n",
       "      <th>Gender</th>\n",
       "      <th>JobLevel</th>\n",
       "      <th>JobRole</th>\n",
       "      <th>MaritalStatus</th>\n",
       "      <th>MonthlyIncome</th>\n",
       "      <th>NumCompaniesWorked</th>\n",
       "      <th>PercentSalaryHike</th>\n",
       "      <th>StockOptionLevel</th>\n",
       "      <th>TotalWorkingYears</th>\n",
       "      <th>TrainingTimesLastYear</th>\n",
       "      <th>YearsAtCompany</th>\n",
       "      <th>YearsSinceLastPromotion</th>\n",
       "      <th>YearsWithCurrManager</th>\n",
       "      <th>Manager_opinion_JobInvolvement</th>\n",
       "      <th>Manager_opinion_PerformanceRating</th>\n",
       "    </tr>\n",
       "  </thead>\n",
       "  <tbody>\n",
       "    <tr>\n",
       "      <th>710</th>\n",
       "      <td>1.00</td>\n",
       "      <td>1.00</td>\n",
       "      <td>2.00</td>\n",
       "      <td>36</td>\n",
       "      <td>False</td>\n",
       "      <td>Travel_Frequently</td>\n",
       "      <td>Sales</td>\n",
       "      <td>16</td>\n",
       "      <td>2</td>\n",
       "      <td>Life Sciences</td>\n",
       "      <td>Male</td>\n",
       "      <td>1</td>\n",
       "      <td>Research Scientist</td>\n",
       "      <td>Married</td>\n",
       "      <td>12810</td>\n",
       "      <td>2.00</td>\n",
       "      <td>11</td>\n",
       "      <td>0</td>\n",
       "      <td>17.00</td>\n",
       "      <td>2</td>\n",
       "      <td>15</td>\n",
       "      <td>6</td>\n",
       "      <td>13</td>\n",
       "      <td>3</td>\n",
       "      <td>3</td>\n",
       "    </tr>\n",
       "  </tbody>\n",
       "</table>\n",
       "</div>"
      ],
      "text/plain": [
       "     EnvironmentSatisfaction  JobSatisfaction  WorkLifeBalance  Age  \\\n",
       "710                     1.00             1.00             2.00   36   \n",
       "\n",
       "     Attrition     BusinessTravel Department  DistanceFromHome  Education  \\\n",
       "710      False  Travel_Frequently      Sales                16          2   \n",
       "\n",
       "    EducationField Gender  JobLevel             JobRole MaritalStatus  \\\n",
       "710  Life Sciences   Male         1  Research Scientist       Married   \n",
       "\n",
       "     MonthlyIncome  NumCompaniesWorked  PercentSalaryHike  StockOptionLevel  \\\n",
       "710          12810                2.00                 11                 0   \n",
       "\n",
       "     TotalWorkingYears  TrainingTimesLastYear  YearsAtCompany  \\\n",
       "710              17.00                      2              15   \n",
       "\n",
       "     YearsSinceLastPromotion  YearsWithCurrManager  \\\n",
       "710                        6                    13   \n",
       "\n",
       "     Manager_opinion_JobInvolvement  Manager_opinion_PerformanceRating  \n",
       "710                               3                                  3  "
      ]
     },
     "execution_count": 57,
     "metadata": {},
     "output_type": "execute_result"
    }
   ],
   "source": [
    "df.drop(columns=['EmployeeID', 'EmployeeCount', 'StandardHours'], inplace=True)\n",
    "df.sample()"
   ]
  },
  {
   "cell_type": "markdown",
   "metadata": {},
   "source": [
    "**Cambio de Valores (categorización de las variables numericas)**\n",
    "\n",
    "#### Casi todos los datos están con su tipo correcto, además, hemos visto que al cambiar los valores de ```Attrition``` ha obtenido el tipo de dato booleno. Solo nos quedaría:\n",
    "\n",
    "- Cambiar valores de ```Education```: le asignaremos su valor original ya que nos viene como numero y así poder ver si tienen orden o no una vez tengamos su valores categóricos."
   ]
  },
  {
   "cell_type": "code",
   "execution_count": null,
   "metadata": {},
   "outputs": [
    {
     "data": {
      "text/plain": [
       "array(['College', 'Below College', 'Master', 'Doctor', 'Bachelor'],\n",
       "      dtype=object)"
      ]
     },
     "execution_count": 58,
     "metadata": {},
     "output_type": "execute_result"
    }
   ],
   "source": [
    "df['Education'] = df['Education'].map({\n",
    "                                        1: 'Below College',\n",
    "                                        2: 'College',\n",
    "                                        3: 'Bachelor',\n",
    "                                        4: 'Master',\n",
    "                                        5: 'Doctor'\n",
    "                                    })\n",
    "\n",
    "df['Education'].unique()"
   ]
  },
  {
   "cell_type": "markdown",
   "metadata": {},
   "source": [
    "---\n",
    "---"
   ]
  },
  {
   "cell_type": "markdown",
   "metadata": {},
   "source": [
    "## Salvamos Datos\n",
    "\n",
    "#### Una vez realizada una exploraci'on"
   ]
  },
  {
   "cell_type": "code",
   "execution_count": null,
   "metadata": {},
   "outputs": [],
   "source": []
  }
 ],
 "metadata": {
  "kernelspec": {
   "display_name": "proyecto4",
   "language": "python",
   "name": "python3"
  },
  "language_info": {
   "codemirror_mode": {
    "name": "ipython",
    "version": 3
   },
   "file_extension": ".py",
   "mimetype": "text/x-python",
   "name": "python",
   "nbconvert_exporter": "python",
   "pygments_lexer": "ipython3",
   "version": "3.12.4"
  }
 },
 "nbformat": 4,
 "nbformat_minor": 2
}
